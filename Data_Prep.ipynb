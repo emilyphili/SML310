{
 "cells": [
  {
   "cell_type": "markdown",
   "metadata": {},
   "source": [
    "# Notebook for Extracting CoreLogic Data\n",
    "Emily Philippides\n",
    "See Data_Prep_Updated.ipynb"
   ]
  }
